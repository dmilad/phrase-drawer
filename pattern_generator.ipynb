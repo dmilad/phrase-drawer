{
 "cells": [
  {
   "cell_type": "markdown",
   "metadata": {},
   "source": [
    "# Image Pattern Generator\n",
    "\n",
    "This notebook lets you create images by overlaying a smaller image repeatedly on a larger canvas in various patterns (circles, grids, spirals, etc.)."
   ]
  },
  {
   "cell_type": "markdown",
   "metadata": {},
   "source": [
    "## Setup and Imports"
   ]
  },
  {
   "cell_type": "code",
   "execution_count": null,
   "metadata": {},
   "outputs": [],
   "source": [
    "from pattern_utils import *\n",
    "from pathlib import Path\n",
    "\n",
    "# Create directories if they don't exist\n",
    "Path('input').mkdir(exist_ok=True)\n",
    "Path('output').mkdir(exist_ok=True)\n",
    "\n",
    "# Enable inline plotting\n",
    "%matplotlib inline\n",
    "\n",
    "# Set figure size for better visualization\n",
    "plt.rcParams['figure.figsize'] = (10, 10)\n",
    "\n",
    "print(\"Setup complete! All pattern generation functions loaded from pattern_utils.py\")"
   ]
  },
  {
   "cell_type": "markdown",
   "metadata": {},
   "source": [
    "## Example 1: Grid Pattern"
   ]
  },
  {
   "cell_type": "code",
   "execution_count": null,
   "metadata": {},
   "outputs": [],
   "source": [
    "# Create a canvas\n",
    "canvas = create_canvas(1024, 1024, 'white')\n",
    "\n",
    "# Create a sample small image (black circle)\n",
    "small_img = create_sample_small_image(width=20, height=20, shape='circle', color=(0, 0, 0, 255))\n",
    "\n",
    "# Generate grid positions\n",
    "positions = generate_grid_positions(\n",
    "    canvas_width=1024,\n",
    "    canvas_height=1024,\n",
    "    spacing_x=50,\n",
    "    spacing_y=50,\n",
    "    offset_x=25,\n",
    "    offset_y=25\n",
    ")\n",
    "\n",
    "# Visualize positions\n",
    "visualize_positions(1024, 1024, positions, 'Grid Pattern')\n",
    "\n",
    "# Overlay the images\n",
    "result = overlay_images(canvas, small_img, positions, center_images=True)\n",
    "\n",
    "# Display result\n",
    "display_image(result, 'Grid Pattern Result')\n",
    "\n",
    "# Save result\n",
    "result.save('output/grid_pattern.png')\n",
    "print(\"Saved to output/grid_pattern.png\")"
   ]
  },
  {
   "cell_type": "markdown",
   "metadata": {},
   "source": [
    "## Example 2: Single Circle Pattern"
   ]
  },
  {
   "cell_type": "code",
   "execution_count": null,
   "metadata": {},
   "outputs": [],
   "source": [
    "# Create a canvas\n",
    "canvas = create_canvas(1024, 1024, 'white')\n",
    "\n",
    "# Create a sample small image (red square)\n",
    "small_img = create_sample_small_image(width=15, height=15, shape='square', color=(255, 0, 0, 255))\n",
    "\n",
    "# Generate circle positions\n",
    "positions = generate_circle_positions(\n",
    "    center_x=512,\n",
    "    center_y=512,\n",
    "    radius=300,\n",
    "    num_points=50\n",
    ")\n",
    "\n",
    "# Visualize positions\n",
    "visualize_positions(1024, 1024, positions, 'Circle Pattern')\n",
    "\n",
    "# Overlay the images\n",
    "result = overlay_images(canvas, small_img, positions, center_images=True)\n",
    "\n",
    "# Display result\n",
    "display_image(result, 'Circle Pattern Result')\n",
    "\n",
    "# Save result\n",
    "result.save('output/circle_pattern.png')\n",
    "print(\"Saved to output/circle_pattern.png\")"
   ]
  },
  {
   "cell_type": "markdown",
   "metadata": {},
   "source": [
    "## Example 3: Concentric Circles Pattern"
   ]
  },
  {
   "cell_type": "code",
   "execution_count": null,
   "metadata": {},
   "outputs": [],
   "source": [
    "# Create a canvas\n",
    "canvas = create_canvas(1024, 1024, 'white')\n",
    "\n",
    "# Create a sample small image (blue triangle)\n",
    "small_img = create_sample_small_image(width=12, height=12, shape='triangle', color=(0, 0, 255, 255))\n",
    "\n",
    "# Generate concentric circles positions\n",
    "positions = generate_concentric_circles_positions(\n",
    "    center_x=512,\n",
    "    center_y=512,\n",
    "    min_radius=100,\n",
    "    max_radius=450,\n",
    "    num_circles=6,\n",
    "    points_per_circle=40\n",
    ")\n",
    "\n",
    "# Visualize positions\n",
    "visualize_positions(1024, 1024, positions, 'Concentric Circles Pattern')\n",
    "\n",
    "# Overlay the images\n",
    "result = overlay_images(canvas, small_img, positions, center_images=True)\n",
    "\n",
    "# Display result\n",
    "display_image(result, 'Concentric Circles Pattern Result')\n",
    "\n",
    "# Save result\n",
    "result.save('output/concentric_circles_pattern.png')\n",
    "print(\"Saved to output/concentric_circles_pattern.png\")"
   ]
  },
  {
   "cell_type": "markdown",
   "metadata": {},
   "source": [
    "## Example 4: Spiral Pattern"
   ]
  },
  {
   "cell_type": "code",
   "execution_count": null,
   "metadata": {},
   "outputs": [],
   "source": [
    "# Create a canvas\n",
    "canvas = create_canvas(1024, 1024, 'white')\n",
    "\n",
    "# Create a sample small image (green circle)\n",
    "small_img = create_sample_small_image(width=10, height=10, shape='circle', color=(0, 255, 0, 255))\n",
    "\n",
    "# Generate spiral positions\n",
    "positions = generate_spiral_positions(\n",
    "    center_x=512,\n",
    "    center_y=512,\n",
    "    start_radius=20,\n",
    "    end_radius=450,\n",
    "    num_points=200,\n",
    "    num_rotations=5\n",
    ")\n",
    "\n",
    "# Visualize positions\n",
    "visualize_positions(1024, 1024, positions, 'Spiral Pattern')\n",
    "\n",
    "# Overlay the images\n",
    "result = overlay_images(canvas, small_img, positions, center_images=True)\n",
    "\n",
    "# Display result\n",
    "display_image(result, 'Spiral Pattern Result')\n",
    "\n",
    "# Save result\n",
    "result.save('output/spiral_pattern.png')\n",
    "print(\"Saved to output/spiral_pattern.png\")"
   ]
  },
  {
   "cell_type": "markdown",
   "metadata": {},
   "source": [
    "## Example 5: Square Outline Pattern"
   ]
  },
  {
   "cell_type": "code",
   "execution_count": null,
   "metadata": {},
   "outputs": [],
   "source": [
    "# Create a canvas\n",
    "canvas = create_canvas(1024, 1024, 'white')\n",
    "\n",
    "# Create a sample small image (purple square)\n",
    "small_img = create_sample_small_image(width=18, height=18, shape='square', color=(128, 0, 128, 255))\n",
    "\n",
    "# Generate square outline positions\n",
    "positions = generate_square_outline_positions(\n",
    "    center_x=512,\n",
    "    center_y=512,\n",
    "    side_length=600,\n",
    "    points_per_side=30\n",
    ")\n",
    "\n",
    "# Visualize positions\n",
    "visualize_positions(1024, 1024, positions, 'Square Outline Pattern')\n",
    "\n",
    "# Overlay the images\n",
    "result = overlay_images(canvas, small_img, positions, center_images=True)\n",
    "\n",
    "# Display result\n",
    "display_image(result, 'Square Outline Pattern Result')\n",
    "\n",
    "# Save result\n",
    "result.save('output/square_outline_pattern.png')\n",
    "print(\"Saved to output/square_outline_pattern.png\")"
   ]
  },
  {
   "cell_type": "markdown",
   "metadata": {},
   "source": [
    "## Custom Experiment Area\n",
    "\n",
    "Use this cell to create your own patterns! Mix and match different pattern generators, colors, and shapes.\n",
    "\n",
    "**Available functions:**\n",
    "- `create_canvas(width, height, color)`\n",
    "- `create_sample_small_image(width, height, shape, color)`\n",
    "- `load_small_image(path)` - for loading your own images\n",
    "- `generate_grid_positions(...)`\n",
    "- `generate_circle_positions(...)`\n",
    "- `generate_concentric_circles_positions(...)`\n",
    "- `generate_spiral_positions(...)`\n",
    "- `generate_square_outline_positions(...)`\n",
    "- `overlay_images(canvas, small_img, positions, center_images=True)`\n",
    "- `visualize_positions(width, height, positions, title)`\n",
    "- `display_image(img, title)`"
   ]
  },
  {
   "cell_type": "code",
   "execution_count": null,
   "metadata": {},
   "outputs": [],
   "source": [
    "# Your custom pattern here!\n",
    "canvas = create_canvas(1024, 1024, 'white')\n",
    "\n",
    "# Try different parameters:\n",
    "# - Change the shape: 'circle', 'square', 'triangle'\n",
    "# - Change the color: (R, G, B, Alpha) where values are 0-255\n",
    "# - Change the size\n",
    "small_img = create_sample_small_image(width=10, height=20, shape='circle', color=(0, 0, 0, 255))\n",
    "\n",
    "# Try different patterns:\n",
    "# positions = generate_grid_positions(1024, 1024, 30, 30)\n",
    "# positions = generate_circle_positions(512, 512, 300, 50)\n",
    "# positions = generate_concentric_circles_positions(512, 512, 100, 450, 5, 30)\n",
    "# positions = generate_spiral_positions(512, 512, 20, 450, 200, 5)\n",
    "# positions = generate_square_outline_positions(512, 512, 600, 40)\n",
    "\n",
    "positions = generate_circle_positions(512, 512, 300, 50)\n",
    "\n",
    "# Visualize and create\n",
    "visualize_positions(1024, 1024, positions, 'Custom Pattern')\n",
    "result = overlay_images(canvas, small_img, positions, center_images=True)\n",
    "display_image(result, 'Custom Pattern Result')\n",
    "\n",
    "# Uncomment to save:\n",
    "# result.save('output/custom_pattern.png')\n",
    "# print(\"Saved to output/custom_pattern.png\")"
   ]
  },
  {
   "cell_type": "markdown",
   "metadata": {},
   "source": [
    "## Using Your Own Images\n",
    "\n",
    "Place your PNG images in the `input/` folder and load them here."
   ]
  },
  {
   "cell_type": "code",
   "execution_count": null,
   "metadata": {},
   "outputs": [],
   "source": [
    "# Example: Load your own image\n",
    "# Make sure to place your image in the input/ folder first\n",
    "\n",
    "# Uncomment and modify the path:\n",
    "# small_img = load_small_image('input/your_image.png')\n",
    "# canvas = create_canvas(1024, 1024, 'white')\n",
    "# positions = generate_circle_positions(512, 512, 300, 50)\n",
    "# result = overlay_images(canvas, small_img, positions, center_images=True)\n",
    "# display_image(result, 'Custom Image Pattern')\n",
    "# result.save('output/custom_image_pattern.png')\n",
    "\n",
    "print(\"Place your images in the input/ folder and uncomment the code above to use them!\")"
   ]
  }
 ],
 "metadata": {
  "kernelspec": {
   "display_name": "Python 3",
   "language": "python",
   "name": "python3"
  },
  "language_info": {
   "codemirror_mode": {
    "name": "ipython",
    "version": 3
   },
   "file_extension": ".py",
   "mimetype": "text/x-python",
   "name": "python",
   "nbconvert_exporter": "python",
   "pygments_lexer": "ipython3",
   "version": "3.12.0"
  }
 },
 "nbformat": 4,
 "nbformat_minor": 4
}
