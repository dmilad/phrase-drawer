{
 "cells": [
  {
   "cell_type": "markdown",
   "metadata": {},
   "source": [
    "# Image Pattern Generator\n",
    "\n",
    "This notebook lets you create images by overlaying a smaller image repeatedly on a larger canvas in various patterns (circles, grids, spirals, etc.)."
   ]
  },
  {
   "cell_type": "markdown",
   "metadata": {},
   "source": [
    "## Setup and Imports"
   ]
  },
  {
   "cell_type": "code",
   "execution_count": null,
   "metadata": {},
   "outputs": [],
   "source": [
    "from pattern_utils import *\n",
    "from pathlib import Path\n",
    "\n",
    "# Create directories if they don't exist\n",
    "Path('input').mkdir(exist_ok=True)\n",
    "Path('output').mkdir(exist_ok=True)\n",
    "\n",
    "# Enable inline plotting\n",
    "%matplotlib inline\n",
    "\n",
    "# Set figure size for better visualization\n",
    "plt.rcParams['figure.figsize'] = (10, 10)\n",
    "\n",
    "print(\"Setup complete! All pattern generation functions loaded from pattern_utils.py\")"
   ]
  },
  {
   "cell_type": "markdown",
   "metadata": {},
   "source": [
    "## Example 1: Grid Pattern"
   ]
  },
  {
   "cell_type": "code",
   "execution_count": null,
   "metadata": {},
   "outputs": [],
   "source": [
    "# Create a canvas\n",
    "canvas = create_canvas(1024, 1024, 'white')\n",
    "\n",
    "# Create a sample small image (black circle)\n",
    "small_img = create_sample_small_image(width=20, height=20, shape='circle', color=(0, 0, 0, 255))\n",
    "\n",
    "# Generate grid positions\n",
    "positions = generate_grid_positions(\n",
    "    canvas_width=1024,\n",
    "    canvas_height=1024,\n",
    "    spacing_x=50,\n",
    "    spacing_y=50,\n",
    "    offset_x=25,\n",
    "    offset_y=25\n",
    ")\n",
    "\n",
    "# Visualize positions\n",
    "visualize_positions(1024, 1024, positions, 'Grid Pattern')\n",
    "\n",
    "# Overlay the images\n",
    "result = overlay_images(canvas, small_img, positions, center_images=True)\n",
    "\n",
    "# Display result\n",
    "display_image(result, 'Grid Pattern Result')\n",
    "\n",
    "# Save result\n",
    "result.save('output/grid_pattern.png')\n",
    "print(\"Saved to output/grid_pattern.png\")"
   ]
  },
  {
   "cell_type": "markdown",
   "metadata": {},
   "source": [
    "## Example 2: Single Circle Pattern"
   ]
  },
  {
   "cell_type": "code",
   "execution_count": null,
   "metadata": {},
   "outputs": [],
   "source": [
    "# Create a canvas\n",
    "canvas = create_canvas(1024, 1024, 'white')\n",
    "\n",
    "# Create a sample small image (red square)\n",
    "small_img = create_sample_small_image(width=15, height=15, shape='square', color=(255, 0, 0, 255))\n",
    "\n",
    "# Generate circle positions\n",
    "positions = generate_circle_positions(\n",
    "    center_x=512,\n",
    "    center_y=512,\n",
    "    radius=300,\n",
    "    num_points=50\n",
    ")\n",
    "\n",
    "# Visualize positions\n",
    "visualize_positions(1024, 1024, positions, 'Circle Pattern')\n",
    "\n",
    "# Overlay the images\n",
    "result = overlay_images(canvas, small_img, positions, center_images=True)\n",
    "\n",
    "# Display result\n",
    "display_image(result, 'Circle Pattern Result')\n",
    "\n",
    "# Save result\n",
    "result.save('output/circle_pattern.png')\n",
    "print(\"Saved to output/circle_pattern.png\")"
   ]
  },
  {
   "cell_type": "markdown",
   "metadata": {},
   "source": [
    "## Example 3: Concentric Circles Pattern"
   ]
  },
  {
   "cell_type": "code",
   "execution_count": null,
   "metadata": {},
   "outputs": [],
   "source": [
    "# Create a canvas\n",
    "canvas = create_canvas(1024, 1024, 'white')\n",
    "\n",
    "# Create a sample small image (blue triangle)\n",
    "small_img = create_sample_small_image(width=12, height=12, shape='triangle', color=(0, 0, 255, 255))\n",
    "\n",
    "# Generate concentric circles positions\n",
    "positions = generate_concentric_circles_positions(\n",
    "    center_x=512,\n",
    "    center_y=512,\n",
    "    min_radius=100,\n",
    "    max_radius=450,\n",
    "    num_circles=6,\n",
    "    points_per_circle=40\n",
    ")\n",
    "\n",
    "# Visualize positions\n",
    "visualize_positions(1024, 1024, positions, 'Concentric Circles Pattern')\n",
    "\n",
    "# Overlay the images\n",
    "result = overlay_images(canvas, small_img, positions, center_images=True)\n",
    "\n",
    "# Display result\n",
    "display_image(result, 'Concentric Circles Pattern Result')\n",
    "\n",
    "# Save result\n",
    "result.save('output/concentric_circles_pattern.png')\n",
    "print(\"Saved to output/concentric_circles_pattern.png\")"
   ]
  },
  {
   "cell_type": "markdown",
   "metadata": {},
   "source": [
    "## Example 4: Spiral Pattern"
   ]
  },
  {
   "cell_type": "code",
   "execution_count": null,
   "metadata": {},
   "outputs": [],
   "source": [
    "# Create a canvas\n",
    "canvas = create_canvas(1024, 1024, 'white')\n",
    "\n",
    "# Create a sample small image (green circle)\n",
    "small_img = create_sample_small_image(width=10, height=10, shape='circle', color=(0, 255, 0, 255))\n",
    "\n",
    "# Generate spiral positions\n",
    "positions = generate_spiral_positions(\n",
    "    center_x=512,\n",
    "    center_y=512,\n",
    "    start_radius=20,\n",
    "    end_radius=450,\n",
    "    num_points=200,\n",
    "    num_rotations=5\n",
    ")\n",
    "\n",
    "# Visualize positions\n",
    "visualize_positions(1024, 1024, positions, 'Spiral Pattern')\n",
    "\n",
    "# Overlay the images\n",
    "result = overlay_images(canvas, small_img, positions, center_images=True)\n",
    "\n",
    "# Display result\n",
    "display_image(result, 'Spiral Pattern Result')\n",
    "\n",
    "# Save result\n",
    "result.save('output/spiral_pattern.png')\n",
    "print(\"Saved to output/spiral_pattern.png\")"
   ]
  },
  {
   "cell_type": "markdown",
   "metadata": {},
   "source": [
    "## Example 5: Square Outline Pattern"
   ]
  },
  {
   "cell_type": "code",
   "execution_count": null,
   "metadata": {},
   "outputs": [],
   "source": [
    "# Create a canvas\n",
    "canvas = create_canvas(1024, 1024, 'white')\n",
    "\n",
    "# Create a sample small image (purple square)\n",
    "small_img = create_sample_small_image(width=18, height=18, shape='square', color=(128, 0, 128, 255))\n",
    "\n",
    "# Generate square outline positions\n",
    "positions = generate_square_outline_positions(\n",
    "    center_x=512,\n",
    "    center_y=512,\n",
    "    side_length=600,\n",
    "    points_per_side=30\n",
    ")\n",
    "\n",
    "# Visualize positions\n",
    "visualize_positions(1024, 1024, positions, 'Square Outline Pattern')\n",
    "\n",
    "# Overlay the images\n",
    "result = overlay_images(canvas, small_img, positions, center_images=True)\n",
    "\n",
    "# Display result\n",
    "display_image(result, 'Square Outline Pattern Result')\n",
    "\n",
    "# Save result\n",
    "result.save('output/square_outline_pattern.png')\n",
    "print(\"Saved to output/square_outline_pattern.png\")"
   ]
  },
  {
   "cell_type": "markdown",
   "source": "## Example 6: Grayscale Distribution Pattern (Large Canvas)\n\nThis example demonstrates pattern generation based on the brightness distribution of an image. The image is divided into chunks, and positions are sampled based on brightness values - brighter areas have higher probability (or vice versa with invert_distribution).",
   "metadata": {}
  },
  {
   "cell_type": "code",
   "source": "# Configuration parameters\nCANVAS_WIDTH = 6400\nCANVAS_HEIGHT = 4800\nBORDER = 400\nCHUNK_SIZE = 5           # Size of chunks for brightness sampling\nITERATIONS = 50          # Number of sampling iterations (try 50-100)\nSAMPLES_PER_ITERATION = 10  # Number of samples per iteration\nADD_JITTER = False       # Add random noise to positions\nINVERT_DISTRIBUTION = True  # True: darker areas = more density, False: brighter = more\n\n# Path to source image\nsource_image_path = 'input/john-doe.png'\n\n# Generate positions using brightness distribution\nprint(f\"Generating {ITERATIONS * SAMPLES_PER_ITERATION} positions from brightness distribution...\")\npositions = generate_sampled_pattern(\n    image_path=source_image_path,\n    canvas_width=CANVAS_WIDTH,\n    canvas_height=CANVAS_HEIGHT,\n    border=BORDER,\n    chunk_size=CHUNK_SIZE,\n    iterations=ITERATIONS,\n    samples_per_iteration=SAMPLES_PER_ITERATION,\n    add_jitter=ADD_JITTER,\n    invert_distribution=INVERT_DISTRIBUTION\n)\nprint(f\"Generated {len(positions)} positions\")\n\n# Visualize positions (smaller figure for large canvas)\nplt.figure(figsize=(16, 12))\nif positions:\n    x_coords, y_coords = zip(*positions)\n    plt.scatter(x_coords, y_coords, c='blue', alpha=0.3, s=10)\n\n# Draw border rectangle\nborder_x = [BORDER, CANVAS_WIDTH - BORDER, CANVAS_WIDTH - BORDER, BORDER, BORDER]\nborder_y = [BORDER, BORDER, CANVAS_HEIGHT - BORDER, CANVAS_HEIGHT - BORDER, BORDER]\nplt.plot(border_x, border_y, 'r--', linewidth=2, label='Border')\n\nplt.xlim(0, CANVAS_WIDTH)\nplt.ylim(CANVAS_HEIGHT, 0)\nplt.title(f'Grayscale Distribution Pattern ({len(positions)} positions)')\nplt.xlabel('X')\nplt.ylabel('Y')\nplt.legend()\nplt.grid(True, alpha=0.3)\nplt.gca().set_aspect('equal')\nplt.show()\n\n# Create large canvas\nprint(\"Creating large canvas...\")\ncanvas = create_canvas(CANVAS_WIDTH, CANVAS_HEIGHT, 'white')\n\n# Load the pattern image (john-doe.png)\nprint(\"Loading pattern image...\")\npattern_img = load_small_image(source_image_path)\n\n# Scale the pattern image to fit within the inner area\n# Calculate the scale factor based on the longest axis\ninner_width = CANVAS_WIDTH - 2 * BORDER\ninner_height = CANVAS_HEIGHT - 2 * BORDER\npattern_width, pattern_height = pattern_img.size\n\n# Scale to fit a reasonable portion of the inner area (e.g., 1/20th of the longest axis)\ntarget_size = max(inner_width, inner_height) // 20\nscale_factor = target_size / max(pattern_width, pattern_height)\nnew_width = int(pattern_width * scale_factor)\nnew_height = int(pattern_height * scale_factor)\n\npattern_img = pattern_img.resize((new_width, new_height), Image.Resampling.LANCZOS)\nprint(f\"Scaled pattern image to {new_width}x{new_height}\")\n\n# Overlay the pattern image at all positions\nprint(\"Overlaying images (this may take a while for large canvases)...\")\nresult = overlay_images(canvas, pattern_img, positions, center_images=True)\n\n# Display result (scaled down for viewing)\ndisplay_scale = 0.15  # Show at 15% size for easier viewing\ndisplay_width = int(CANVAS_WIDTH * display_scale)\ndisplay_height = int(CANVAS_HEIGHT * display_scale)\ndisplay_result = result.resize((display_width, display_height), Image.Resampling.LANCZOS)\n\nplt.figure(figsize=(16, 12))\nplt.imshow(display_result)\nplt.title(f'Grayscale Distribution Pattern Result ({CANVAS_WIDTH}x{CANVAS_HEIGHT})')\nplt.axis('off')\nplt.show()\n\n# Save full resolution result\noutput_path = 'output/grayscale_distribution_pattern.png'\nresult.save(output_path)\nprint(f\"Saved full resolution image to {output_path}\")\nprint(f\"Final image size: {CANVAS_WIDTH}x{CANVAS_HEIGHT} pixels\")",
   "metadata": {},
   "execution_count": null,
   "outputs": []
  },
  {
   "cell_type": "markdown",
   "metadata": {},
   "source": "## Custom Experiment Area\n\nUse this cell to create your own patterns! Mix and match different pattern generators, colors, and shapes.\n\n**Available functions:**\n- `create_canvas(width, height, color)`\n- `create_sample_small_image(width, height, shape, color)`\n- `load_small_image(path)` - for loading your own images\n- `generate_grid_positions(...)`\n- `generate_circle_positions(...)`\n- `generate_concentric_circles_positions(...)`\n- `generate_spiral_positions(...)`\n- `generate_square_outline_positions(...)`\n- `generate_sampled_pattern(...)` - brightness-based distribution pattern\n- `overlay_images(canvas, small_img, positions, center_images=True)`\n- `visualize_positions(width, height, positions, title)`\n- `display_image(img, title)`"
  },
  {
   "cell_type": "code",
   "execution_count": null,
   "metadata": {},
   "outputs": [],
   "source": [
    "# Your custom pattern here!\n",
    "canvas = create_canvas(1024, 1024, 'white')\n",
    "\n",
    "# Try different parameters:\n",
    "# - Change the shape: 'circle', 'square', 'triangle'\n",
    "# - Change the color: (R, G, B, Alpha) where values are 0-255\n",
    "# - Change the size\n",
    "small_img = create_sample_small_image(width=10, height=20, shape='circle', color=(0, 0, 0, 255))\n",
    "\n",
    "# Try different patterns:\n",
    "# positions = generate_grid_positions(1024, 1024, 30, 30)\n",
    "# positions = generate_circle_positions(512, 512, 300, 50)\n",
    "# positions = generate_concentric_circles_positions(512, 512, 100, 450, 5, 30)\n",
    "# positions = generate_spiral_positions(512, 512, 20, 450, 200, 5)\n",
    "# positions = generate_square_outline_positions(512, 512, 600, 40)\n",
    "\n",
    "positions = generate_circle_positions(512, 512, 300, 50)\n",
    "\n",
    "# Visualize and create\n",
    "visualize_positions(1024, 1024, positions, 'Custom Pattern')\n",
    "result = overlay_images(canvas, small_img, positions, center_images=True)\n",
    "display_image(result, 'Custom Pattern Result')\n",
    "\n",
    "# Uncomment to save:\n",
    "# result.save('output/custom_pattern.png')\n",
    "# print(\"Saved to output/custom_pattern.png\")"
   ]
  },
  {
   "cell_type": "markdown",
   "metadata": {},
   "source": [
    "## Using Your Own Images\n",
    "\n",
    "Place your PNG images in the `input/` folder and load them here."
   ]
  },
  {
   "cell_type": "code",
   "execution_count": null,
   "metadata": {},
   "outputs": [],
   "source": [
    "# Example: Load your own image\n",
    "# Make sure to place your image in the input/ folder first\n",
    "\n",
    "# Uncomment and modify the path:\n",
    "# small_img = load_small_image('input/your_image.png')\n",
    "# canvas = create_canvas(1024, 1024, 'white')\n",
    "# positions = generate_circle_positions(512, 512, 300, 50)\n",
    "# result = overlay_images(canvas, small_img, positions, center_images=True)\n",
    "# display_image(result, 'Custom Image Pattern')\n",
    "# result.save('output/custom_image_pattern.png')\n",
    "\n",
    "print(\"Place your images in the input/ folder and uncomment the code above to use them!\")"
   ]
  }
 ],
 "metadata": {
  "kernelspec": {
   "display_name": "Python 3",
   "language": "python",
   "name": "python3"
  },
  "language_info": {
   "codemirror_mode": {
    "name": "ipython",
    "version": 3
   },
   "file_extension": ".py",
   "mimetype": "text/x-python",
   "name": "python",
   "nbconvert_exporter": "python",
   "pygments_lexer": "ipython3",
   "version": "3.12.0"
  }
 },
 "nbformat": 4,
 "nbformat_minor": 4
}